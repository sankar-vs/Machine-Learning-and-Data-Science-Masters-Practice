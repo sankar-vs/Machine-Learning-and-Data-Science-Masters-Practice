{
  "nbformat": 4,
  "nbformat_minor": 0,
  "metadata": {
    "colab": {
      "name": "Python Assignment 1.ipynb",
      "provenance": [],
      "collapsed_sections": []
    },
    "kernelspec": {
      "name": "python3",
      "display_name": "Python 3"
    }
  },
  "cells": [
    {
      "cell_type": "markdown",
      "metadata": {
        "id": "s5PjXImMyPHt",
        "colab_type": "text"
      },
      "source": [
        "### Program-1 \n",
        "Write a program which will find all such numbers which are divisible by 7 but are not a multiple of 5, between 2000 and 3200 (both included). The numbers obtained should be printed in a comma-separated sequence on a single line."
      ]
    },
    {
      "cell_type": "code",
      "metadata": {
        "id": "jdidVBRE7vKC",
        "colab_type": "code",
        "colab": {
          "base_uri": "https://localhost:8080/",
          "height": 54
        },
        "outputId": "5a4582ac-dfd0-41f1-b46f-087ae96666f4"
      },
      "source": [
        "# Create a list with values between 2000 and 3200 using range function\n",
        "a = []\n",
        "a.extend(range(2000,3200))\n",
        "# Create an empty list to store the output in a list\n",
        "b = []\n",
        "for i in a:\n",
        "    if (i%5 != 0) and (i%7 == 0):\n",
        "        b.append(i)\n",
        "print(b)"
      ],
      "execution_count": null,
      "outputs": [
        {
          "output_type": "stream",
          "text": [
            "[2002, 2009, 2016, 2023, 2037, 2044, 2051, 2058, 2072, 2079, 2086, 2093, 2107, 2114, 2121, 2128, 2142, 2149, 2156, 2163, 2177, 2184, 2191, 2198, 2212, 2219, 2226, 2233, 2247, 2254, 2261, 2268, 2282, 2289, 2296, 2303, 2317, 2324, 2331, 2338, 2352, 2359, 2366, 2373, 2387, 2394, 2401, 2408, 2422, 2429, 2436, 2443, 2457, 2464, 2471, 2478, 2492, 2499, 2506, 2513, 2527, 2534, 2541, 2548, 2562, 2569, 2576, 2583, 2597, 2604, 2611, 2618, 2632, 2639, 2646, 2653, 2667, 2674, 2681, 2688, 2702, 2709, 2716, 2723, 2737, 2744, 2751, 2758, 2772, 2779, 2786, 2793, 2807, 2814, 2821, 2828, 2842, 2849, 2856, 2863, 2877, 2884, 2891, 2898, 2912, 2919, 2926, 2933, 2947, 2954, 2961, 2968, 2982, 2989, 2996, 3003, 3017, 3024, 3031, 3038, 3052, 3059, 3066, 3073, 3087, 3094, 3101, 3108, 3122, 3129, 3136, 3143, 3157, 3164, 3171, 3178, 3192, 3199]\n"
          ],
          "name": "stdout"
        }
      ]
    },
    {
      "cell_type": "markdown",
      "metadata": {
        "id": "zq4dUcdy_1Nh",
        "colab_type": "text"
      },
      "source": [
        "### Program-2\n",
        "Write a Python program to accept the user's first and last name and then getting them printed in the the reverse order with a space between first name and last name."
      ]
    },
    {
      "cell_type": "code",
      "metadata": {
        "id": "YyXJ4irc7396",
        "colab_type": "code",
        "colab": {
          "base_uri": "https://localhost:8080/",
          "height": 68
        },
        "outputId": "5e7e62cd-e2d3-485a-b206-cb8074811404"
      },
      "source": [
        "# Storing the user's first name and lasr name in two different variables\n",
        "fn = input(\"Enter your first name: \")\n",
        "ln = input(\"Enter your last name: \")\n",
        "fnr = fn[::-1]\n",
        "lnr = ln[::-1]\n",
        "print(\"{} {}\".format(fnr,lnr))"
      ],
      "execution_count": null,
      "outputs": [
        {
          "output_type": "stream",
          "text": [
            "Enter your first name: Sankar\n",
            "Enter your last name: Selvakumar\n",
            "raknaS ramukavleS\n"
          ],
          "name": "stdout"
        }
      ]
    },
    {
      "cell_type": "markdown",
      "metadata": {
        "id": "AkQyOlP7B1xA",
        "colab_type": "text"
      },
      "source": [
        "### Program-3\n",
        "Write a Python program to find the volume of a sphere with diameter 12 cm. \n",
        "Formula: V=4/3 * π * r \n"
      ]
    },
    {
      "cell_type": "code",
      "metadata": {
        "id": "xXLOTbDZBm0T",
        "colab_type": "code",
        "colab": {
          "base_uri": "https://localhost:8080/",
          "height": 34
        },
        "outputId": "66f23ed6-1295-4b16-d358-aee4a44e70f7"
      },
      "source": [
        "# Note: In question the user is asked to give input in diamter not radius i.e., the Formula is V=4/3*π*D/2\n",
        "# Importing math module for π\n",
        "from math import pi as pi\n",
        "D = 12\n",
        "# We can also ask from the user by the following code\n",
        "# D = input(\"Enter diameter of the sphere (cm) to calculate its Volume: \")\n",
        "Volume =  (4/3)*pi*(D/2)\n",
        "print(\"Volume of the Sphere having {}cm Diameter is: {}\".format(D,Volume))"
      ],
      "execution_count": null,
      "outputs": [
        {
          "output_type": "stream",
          "text": [
            "Volume of the Sphere having 12cm Diameter is: 25.132741228718345\n"
          ],
          "name": "stdout"
        }
      ]
    },
    {
      "cell_type": "code",
      "metadata": {
        "id": "AqGozTObD0yr",
        "colab_type": "code",
        "colab": {}
      },
      "source": [
        ""
      ],
      "execution_count": null,
      "outputs": []
    }
  ]
}