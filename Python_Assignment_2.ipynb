{
 "cells": [
  {
   "cell_type": "markdown",
   "metadata": {},
   "source": [
    "### Program-1 \n",
    "Create the below pattern using nested for loop in Python. <br>"
   ]
  },
  {
   "cell_type": "code",
   "execution_count": 6,
   "metadata": {},
   "outputs": [
    {
     "name": "stdout",
     "output_type": "stream",
     "text": [
      "*\n",
      "* *\n",
      "* * *\n",
      "* * * * \n",
      "* * * * *\n",
      "* * * *\n",
      "* * *\n",
      "* *\n",
      "*\n"
     ]
    }
   ],
   "source": [
    "print(\"*\\n\"\n",
    "\"* *\\n\"\n",
    "\"* * *\\n\"\n",
    "\"* * * * \\n\"\n",
    "\"* * * * *\\n\"\n",
    "\"* * * *\\n\"\n",
    "\"* * *\\n\"\n",
    "\"* *\\n\"\n",
    "\"*\")"
   ]
  },
  {
   "cell_type": "code",
   "execution_count": 7,
   "metadata": {},
   "outputs": [
    {
     "name": "stdout",
     "output_type": "stream",
     "text": [
      " \n",
      "*  \n",
      "* *  \n",
      "* * *  \n",
      "* * * *  \n",
      "* * * * *  \n",
      "* * * *  \n",
      "* * *  \n",
      "* *  \n",
      "*  \n"
     ]
    }
   ],
   "source": [
    "# Number of maximum possible '*' in a line from the above pattern is 5. Storing it in a variable num.\n",
    "num = 5\n",
    "for row in range(num): \n",
    "    for column in range(row):\n",
    "        print(\"*\",end=' ')\n",
    "    print(' ')\n",
    "for row in range(num,0,-1):\n",
    "    for column in range(row):\n",
    "        print(\"*\",end=' ')\n",
    "    print(' ')"
   ]
  },
  {
   "cell_type": "markdown",
   "metadata": {},
   "source": [
    "### Program-2\n",
    "Write a Python program to reverse a word after accepting the input from the user. <br>\n",
    "Sample Output <br>\n",
    "Input word: ineuron <br>\n",
    "Output: norueni"
   ]
  },
  {
   "cell_type": "code",
   "execution_count": 8,
   "metadata": {},
   "outputs": [
    {
     "name": "stdout",
     "output_type": "stream",
     "text": [
      "Input word: ineuron\n",
      "Output: norueni\n"
     ]
    }
   ],
   "source": [
    "# Storing the user input in a variable x.\n",
    "x =  input(\"Input word: \")\n",
    "print(\"Output: %s\"%x[::-1])"
   ]
  },
  {
   "cell_type": "code",
   "execution_count": null,
   "metadata": {},
   "outputs": [],
   "source": []
  }
 ],
 "metadata": {
  "kernelspec": {
   "display_name": "Python 3",
   "language": "python",
   "name": "python3"
  },
  "language_info": {
   "codemirror_mode": {
    "name": "ipython",
    "version": 3
   },
   "file_extension": ".py",
   "mimetype": "text/x-python",
   "name": "python",
   "nbconvert_exporter": "python",
   "pygments_lexer": "ipython3",
   "version": "3.7.4"
  }
 },
 "nbformat": 4,
 "nbformat_minor": 2
}
